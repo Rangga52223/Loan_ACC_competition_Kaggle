{
 "cells": [
  {
   "cell_type": "code",
   "execution_count": 1,
   "metadata": {},
   "outputs": [],
   "source": [
    "import pandas as pd\n",
    "import numpy as np"
   ]
  },
  {
   "cell_type": "code",
   "execution_count": 2,
   "metadata": {},
   "outputs": [],
   "source": [
    "df = pd.read_csv('train_undersampling.csv')\n"
   ]
  },
  {
   "cell_type": "code",
   "execution_count": 3,
   "metadata": {},
   "outputs": [],
   "source": [
    "dft = pd.read_csv('test.csv')"
   ]
  },
  {
   "cell_type": "code",
   "execution_count": 39,
   "metadata": {},
   "outputs": [
    {
     "data": {
      "text/plain": [
       "Index(['Unnamed: 0', 'id', 'person_age', 'person_income',\n",
       "       'person_home_ownership', 'person_emp_length', 'loan_intent',\n",
       "       'loan_grade', 'loan_amnt', 'loan_int_rate', 'loan_percent_income',\n",
       "       'cb_person_default_on_file', 'cb_person_cred_hist_length',\n",
       "       'loan_status'],\n",
       "      dtype='object')"
      ]
     },
     "execution_count": 39,
     "metadata": {},
     "output_type": "execute_result"
    }
   ],
   "source": [
    "df.columns"
   ]
  },
  {
   "cell_type": "code",
   "execution_count": 4,
   "metadata": {},
   "outputs": [],
   "source": [
    "a =df['person_home_ownership'].unique()"
   ]
  },
  {
   "cell_type": "code",
   "execution_count": 5,
   "metadata": {},
   "outputs": [],
   "source": [
    "b = dft['person_home_ownership'].unique()"
   ]
  },
  {
   "cell_type": "code",
   "execution_count": 6,
   "metadata": {},
   "outputs": [
    {
     "name": "stdout",
     "output_type": "stream",
     "text": [
      "['RENT' 'MORTGAGE' 'OWN' 'OTHER'] ['RENT' 'MORTGAGE' 'OWN' 'OTHER']\n"
     ]
    }
   ],
   "source": [
    "print(a, b)"
   ]
  },
  {
   "cell_type": "code",
   "execution_count": 4,
   "metadata": {},
   "outputs": [],
   "source": [
    "df['person_home_ownership'] = df['person_home_ownership'].map({'RENT' : 0, 'OWN': 1, 'MORTGAGE' : 2, 'OTHER' : 3})\n",
    "df['loan_intent'] = df['loan_intent'].map({'EDUCATION' : 0, 'MEDICAL' : 1, 'PERSONAL' : 2, 'VENTURE' : 3, 'DEBTCONSOLIDATION' : 4, 'HOMEIMPROVEMENT' : 5})\n",
    "df['loan_grade'] = df['loan_grade'].map({'B' : 0, 'C' : 1, 'A' : 2, 'D' : 3,'E' : 4, 'F' : 5, 'G' : 6})\n",
    "dft['person_home_ownership'] = dft['person_home_ownership'].map({'RENT' : 0, 'OWN': 1, 'MORTGAGE' : 2, 'OTHER' : 3})\n",
    "dft['loan_intent'] = dft['loan_intent'].map({'EDUCATION' : 0, 'MEDICAL' : 1, 'PERSONAL' : 2, 'VENTURE' : 3, 'DEBTCONSOLIDATION' : 4, 'HOMEIMPROVEMENT' : 5})\n",
    "dft['loan_grade'] = dft['loan_grade'].map({'B' : 0, 'C' : 1, 'A' : 2, 'D' : 3,'E' : 4, 'F' : 5, 'G' : 6})"
   ]
  },
  {
   "cell_type": "code",
   "execution_count": 7,
   "metadata": {},
   "outputs": [
    {
     "name": "stdout",
     "output_type": "stream",
     "text": [
      "Unknown values in real-time data: set()\n"
     ]
    }
   ],
   "source": [
    "unknown_values = set(b) - set(a)\n",
    "print(\"Unknown values in real-time data:\", unknown_values)"
   ]
  },
  {
   "cell_type": "code",
   "execution_count": 40,
   "metadata": {},
   "outputs": [],
   "source": [
    "from sklearn.preprocessing import LabelEncoder\n",
    "label_encoder_home_ownership = LabelEncoder()\n",
    "df['person_home_ownership'] = label_encoder_home_ownership.fit_transform(df['person_home_ownership'])\n",
    "df['loan_intent'] = label_encoder_home_ownership.fit_transform(df['loan_intent'])  \n",
    "df['loan_grade'] = label_encoder_home_ownership.fit_transform(df['loan_grade'])\n"
   ]
  },
  {
   "cell_type": "code",
   "execution_count": 41,
   "metadata": {},
   "outputs": [],
   "source": [
    "dft['person_home_ownership'] = label_encoder_home_ownership.fit_transform(dft['person_home_ownership'])\n",
    "dft['loan_intent'] = label_encoder_home_ownership.fit_transform(dft['loan_intent'])  \n",
    "dft['loan_grade'] = label_encoder_home_ownership.fit_transform(dft['loan_grade'])"
   ]
  },
  {
   "cell_type": "code",
   "execution_count": 61,
   "metadata": {},
   "outputs": [
    {
     "data": {
      "text/plain": [
       "(0, 12)"
      ]
     },
     "execution_count": 61,
     "metadata": {},
     "output_type": "execute_result"
    }
   ],
   "source": [
    "dft.shape"
   ]
  },
  {
   "cell_type": "code",
   "execution_count": 102,
   "metadata": {},
   "outputs": [
    {
     "data": {
      "text/plain": [
       "(39098, 12)"
      ]
     },
     "execution_count": 102,
     "metadata": {},
     "output_type": "execute_result"
    }
   ],
   "source": [
    "dft.shape"
   ]
  },
  {
   "cell_type": "code",
   "execution_count": 103,
   "metadata": {},
   "outputs": [],
   "source": [
    "from sklearn.preprocessing import LabelEncoder\n",
    "label_encoder = LabelEncoder()\n",
    "df['person_home_ownership'] = label_encoder.fit_transform(df['person_home_ownership'])\n",
    "df['loan_intent'] = label_encoder.fit_transform(df['loan_intent'])  \n",
    "df['loan_grade'] = label_encoder.fit_transform(df['loan_grade'])     "
   ]
  },
  {
   "cell_type": "code",
   "execution_count": 105,
   "metadata": {},
   "outputs": [],
   "source": [
    "dft['person_home_ownership'] = label_encoder.transform(dft['person_home_ownership'])\n",
    "dft['loan_intent'] = label_encoder.transform(dft['loan_intent'])\n",
    "dft['loan_grade'] = label_encoder.transform(dft['loan_grade'])"
   ]
  },
  {
   "cell_type": "code",
   "execution_count": 29,
   "metadata": {},
   "outputs": [
    {
     "name": "stdout",
     "output_type": "stream",
     "text": [
      "[3 0 2 1] [4 5 2 3 1 0] [1 2 0 3 4 6 5]\n"
     ]
    }
   ],
   "source": [
    "uniq1 = df['person_home_ownership'].unique()\n",
    "uniq2 = df['loan_intent'].unique()\n",
    "uni3  = df['loan_grade'].unique()\n",
    "print(uniq1, uniq2, uni3)"
   ]
  },
  {
   "cell_type": "code",
   "execution_count": 5,
   "metadata": {},
   "outputs": [],
   "source": [
    "X_train = df[['person_age', 'person_income', 'person_home_ownership',\n",
    "         'loan_intent', 'loan_grade', 'loan_amnt',\n",
    "         'loan_int_rate', 'loan_percent_income']]\n",
    "y = df['loan_status'].values"
   ]
  },
  {
   "cell_type": "code",
   "execution_count": 6,
   "metadata": {},
   "outputs": [],
   "source": [
    "from sklearn.model_selection import train_test_split\n",
    "from sklearn.preprocessing import StandardScaler\n",
    "from tensorflow.keras.models import Sequential\n",
    "from tensorflow.keras.layers import LSTM, Dense, Dropout"
   ]
  },
  {
   "cell_type": "code",
   "execution_count": 7,
   "metadata": {},
   "outputs": [],
   "source": [
    "scaler = StandardScaler()\n",
    "X_scaled = scaler.fit_transform(X_train)"
   ]
  },
  {
   "cell_type": "code",
   "execution_count": 8,
   "metadata": {},
   "outputs": [],
   "source": [
    "X_reshaped = X_scaled.reshape((X_scaled.shape[0], 1, X_scaled.shape[1]))"
   ]
  },
  {
   "cell_type": "code",
   "execution_count": 9,
   "metadata": {},
   "outputs": [],
   "source": [
    "X_train, X_test, y_train, y_test = train_test_split(X_reshaped, y, test_size=0.3, random_state=42)"
   ]
  },
  {
   "cell_type": "code",
   "execution_count": 29,
   "metadata": {},
   "outputs": [
    {
     "name": "stderr",
     "output_type": "stream",
     "text": [
      "e:\\AI_Projek\\Compettion_Load_Predict\\bakso2\\Lib\\site-packages\\keras\\src\\layers\\rnn\\rnn.py:204: UserWarning: Do not pass an `input_shape`/`input_dim` argument to a layer. When using Sequential models, prefer using an `Input(shape)` object as the first layer in the model instead.\n",
      "  super().__init__(**kwargs)\n"
     ]
    }
   ],
   "source": [
    "model = Sequential()\n",
    "model.add(LSTM(64, input_shape=(X_train.shape[1], X_train.shape[2]), return_sequences=True))\n",
    "model.add(Dropout(0.2))\n",
    "model.add(LSTM(32, return_sequences=True))\n",
    "model.add(Dropout(0.2))\n",
    "model.add(Dense(1, activation='sigmoid'))\n",
    "model.add(LSTM(32, return_sequences=False))\n",
    "model.add(Dropout(0.2))\n",
    "model.add(Dense(1, activation='sigmoid'))"
   ]
  },
  {
   "cell_type": "code",
   "execution_count": 30,
   "metadata": {},
   "outputs": [
    {
     "name": "stdout",
     "output_type": "stream",
     "text": [
      "Epoch 1/74\n",
      "\u001b[1m390/390\u001b[0m \u001b[32m━━━━━━━━━━━━━━━━━━━━\u001b[0m\u001b[37m\u001b[0m \u001b[1m6s\u001b[0m 4ms/step - accuracy: 0.5738 - loss: 0.6653 - val_accuracy: 0.8293 - val_loss: 0.4637\n",
      "Epoch 2/74\n",
      "\u001b[1m390/390\u001b[0m \u001b[32m━━━━━━━━━━━━━━━━━━━━\u001b[0m\u001b[37m\u001b[0m \u001b[1m1s\u001b[0m 3ms/step - accuracy: 0.8358 - loss: 0.4325 - val_accuracy: 0.8362 - val_loss: 0.3954\n",
      "Epoch 3/74\n",
      "\u001b[1m390/390\u001b[0m \u001b[32m━━━━━━━━━━━━━━━━━━━━\u001b[0m\u001b[37m\u001b[0m \u001b[1m1s\u001b[0m 3ms/step - accuracy: 0.8440 - loss: 0.3812 - val_accuracy: 0.8375 - val_loss: 0.3790\n",
      "Epoch 4/74\n",
      "\u001b[1m390/390\u001b[0m \u001b[32m━━━━━━━━━━━━━━━━━━━━\u001b[0m\u001b[37m\u001b[0m \u001b[1m1s\u001b[0m 3ms/step - accuracy: 0.8397 - loss: 0.3839 - val_accuracy: 0.8422 - val_loss: 0.3718\n",
      "Epoch 5/74\n",
      "\u001b[1m390/390\u001b[0m \u001b[32m━━━━━━━━━━━━━━━━━━━━\u001b[0m\u001b[37m\u001b[0m \u001b[1m1s\u001b[0m 3ms/step - accuracy: 0.8398 - loss: 0.3778 - val_accuracy: 0.8413 - val_loss: 0.3668\n",
      "Epoch 6/74\n",
      "\u001b[1m390/390\u001b[0m \u001b[32m━━━━━━━━━━━━━━━━━━━━\u001b[0m\u001b[37m\u001b[0m \u001b[1m1s\u001b[0m 3ms/step - accuracy: 0.8564 - loss: 0.3556 - val_accuracy: 0.8413 - val_loss: 0.3658\n",
      "Epoch 7/74\n",
      "\u001b[1m390/390\u001b[0m \u001b[32m━━━━━━━━━━━━━━━━━━━━\u001b[0m\u001b[37m\u001b[0m \u001b[1m1s\u001b[0m 3ms/step - accuracy: 0.8494 - loss: 0.3590 - val_accuracy: 0.8409 - val_loss: 0.3662\n",
      "Epoch 8/74\n",
      "\u001b[1m390/390\u001b[0m \u001b[32m━━━━━━━━━━━━━━━━━━━━\u001b[0m\u001b[37m\u001b[0m \u001b[1m1s\u001b[0m 3ms/step - accuracy: 0.8442 - loss: 0.3603 - val_accuracy: 0.8430 - val_loss: 0.3625\n",
      "Epoch 9/74\n",
      "\u001b[1m390/390\u001b[0m \u001b[32m━━━━━━━━━━━━━━━━━━━━\u001b[0m\u001b[37m\u001b[0m \u001b[1m1s\u001b[0m 3ms/step - accuracy: 0.8440 - loss: 0.3687 - val_accuracy: 0.8456 - val_loss: 0.3625\n",
      "Epoch 10/74\n",
      "\u001b[1m390/390\u001b[0m \u001b[32m━━━━━━━━━━━━━━━━━━━━\u001b[0m\u001b[37m\u001b[0m \u001b[1m1s\u001b[0m 3ms/step - accuracy: 0.8523 - loss: 0.3572 - val_accuracy: 0.8417 - val_loss: 0.3626\n",
      "Epoch 11/74\n",
      "\u001b[1m390/390\u001b[0m \u001b[32m━━━━━━━━━━━━━━━━━━━━\u001b[0m\u001b[37m\u001b[0m \u001b[1m2s\u001b[0m 6ms/step - accuracy: 0.8508 - loss: 0.3632 - val_accuracy: 0.8464 - val_loss: 0.3608\n",
      "Epoch 12/74\n",
      "\u001b[1m390/390\u001b[0m \u001b[32m━━━━━━━━━━━━━━━━━━━━\u001b[0m\u001b[37m\u001b[0m \u001b[1m3s\u001b[0m 6ms/step - accuracy: 0.8476 - loss: 0.3688 - val_accuracy: 0.8447 - val_loss: 0.3594\n",
      "Epoch 13/74\n",
      "\u001b[1m390/390\u001b[0m \u001b[32m━━━━━━━━━━━━━━━━━━━━\u001b[0m\u001b[37m\u001b[0m \u001b[1m2s\u001b[0m 5ms/step - accuracy: 0.8504 - loss: 0.3662 - val_accuracy: 0.8469 - val_loss: 0.3590\n",
      "Epoch 14/74\n",
      "\u001b[1m390/390\u001b[0m \u001b[32m━━━━━━━━━━━━━━━━━━━━\u001b[0m\u001b[37m\u001b[0m \u001b[1m2s\u001b[0m 5ms/step - accuracy: 0.8568 - loss: 0.3449 - val_accuracy: 0.8456 - val_loss: 0.3587\n",
      "Epoch 15/74\n",
      "\u001b[1m390/390\u001b[0m \u001b[32m━━━━━━━━━━━━━━━━━━━━\u001b[0m\u001b[37m\u001b[0m \u001b[1m2s\u001b[0m 5ms/step - accuracy: 0.8555 - loss: 0.3582 - val_accuracy: 0.8443 - val_loss: 0.3581\n",
      "Epoch 16/74\n",
      "\u001b[1m390/390\u001b[0m \u001b[32m━━━━━━━━━━━━━━━━━━━━\u001b[0m\u001b[37m\u001b[0m \u001b[1m2s\u001b[0m 5ms/step - accuracy: 0.8443 - loss: 0.3684 - val_accuracy: 0.8482 - val_loss: 0.3565\n",
      "Epoch 17/74\n",
      "\u001b[1m390/390\u001b[0m \u001b[32m━━━━━━━━━━━━━━━━━━━━\u001b[0m\u001b[37m\u001b[0m \u001b[1m2s\u001b[0m 4ms/step - accuracy: 0.8588 - loss: 0.3506 - val_accuracy: 0.8439 - val_loss: 0.3570\n",
      "Epoch 18/74\n",
      "\u001b[1m390/390\u001b[0m \u001b[32m━━━━━━━━━━━━━━━━━━━━\u001b[0m\u001b[37m\u001b[0m \u001b[1m2s\u001b[0m 5ms/step - accuracy: 0.8482 - loss: 0.3690 - val_accuracy: 0.8409 - val_loss: 0.3577\n",
      "Epoch 19/74\n",
      "\u001b[1m390/390\u001b[0m \u001b[32m━━━━━━━━━━━━━━━━━━━━\u001b[0m\u001b[37m\u001b[0m \u001b[1m3s\u001b[0m 7ms/step - accuracy: 0.8569 - loss: 0.3545 - val_accuracy: 0.8464 - val_loss: 0.3561\n",
      "Epoch 20/74\n",
      "\u001b[1m390/390\u001b[0m \u001b[32m━━━━━━━━━━━━━━━━━━━━\u001b[0m\u001b[37m\u001b[0m \u001b[1m4s\u001b[0m 4ms/step - accuracy: 0.8518 - loss: 0.3572 - val_accuracy: 0.8460 - val_loss: 0.3546\n",
      "Epoch 21/74\n",
      "\u001b[1m390/390\u001b[0m \u001b[32m━━━━━━━━━━━━━━━━━━━━\u001b[0m\u001b[37m\u001b[0m \u001b[1m1s\u001b[0m 4ms/step - accuracy: 0.8483 - loss: 0.3644 - val_accuracy: 0.8439 - val_loss: 0.3557\n",
      "Epoch 22/74\n",
      "\u001b[1m390/390\u001b[0m \u001b[32m━━━━━━━━━━━━━━━━━━━━\u001b[0m\u001b[37m\u001b[0m \u001b[1m2s\u001b[0m 5ms/step - accuracy: 0.8477 - loss: 0.3624 - val_accuracy: 0.8456 - val_loss: 0.3543\n",
      "Epoch 23/74\n",
      "\u001b[1m390/390\u001b[0m \u001b[32m━━━━━━━━━━━━━━━━━━━━\u001b[0m\u001b[37m\u001b[0m \u001b[1m2s\u001b[0m 4ms/step - accuracy: 0.8591 - loss: 0.3442 - val_accuracy: 0.8452 - val_loss: 0.3548\n",
      "Epoch 24/74\n",
      "\u001b[1m390/390\u001b[0m \u001b[32m━━━━━━━━━━━━━━━━━━━━\u001b[0m\u001b[37m\u001b[0m \u001b[1m2s\u001b[0m 4ms/step - accuracy: 0.8528 - loss: 0.3537 - val_accuracy: 0.8464 - val_loss: 0.3544\n",
      "Epoch 25/74\n",
      "\u001b[1m390/390\u001b[0m \u001b[32m━━━━━━━━━━━━━━━━━━━━\u001b[0m\u001b[37m\u001b[0m \u001b[1m2s\u001b[0m 4ms/step - accuracy: 0.8555 - loss: 0.3564 - val_accuracy: 0.8430 - val_loss: 0.3527\n",
      "Epoch 26/74\n",
      "\u001b[1m390/390\u001b[0m \u001b[32m━━━━━━━━━━━━━━━━━━━━\u001b[0m\u001b[37m\u001b[0m \u001b[1m2s\u001b[0m 4ms/step - accuracy: 0.8573 - loss: 0.3512 - val_accuracy: 0.8477 - val_loss: 0.3575\n",
      "Epoch 27/74\n",
      "\u001b[1m390/390\u001b[0m \u001b[32m━━━━━━━━━━━━━━━━━━━━\u001b[0m\u001b[37m\u001b[0m \u001b[1m2s\u001b[0m 4ms/step - accuracy: 0.8560 - loss: 0.3505 - val_accuracy: 0.8460 - val_loss: 0.3537\n",
      "Epoch 28/74\n",
      "\u001b[1m390/390\u001b[0m \u001b[32m━━━━━━━━━━━━━━━━━━━━\u001b[0m\u001b[37m\u001b[0m \u001b[1m2s\u001b[0m 4ms/step - accuracy: 0.8577 - loss: 0.3481 - val_accuracy: 0.8490 - val_loss: 0.3500\n",
      "Epoch 29/74\n",
      "\u001b[1m390/390\u001b[0m \u001b[32m━━━━━━━━━━━━━━━━━━━━\u001b[0m\u001b[37m\u001b[0m \u001b[1m3s\u001b[0m 6ms/step - accuracy: 0.8630 - loss: 0.3438 - val_accuracy: 0.8477 - val_loss: 0.3515\n",
      "Epoch 30/74\n",
      "\u001b[1m390/390\u001b[0m \u001b[32m━━━━━━━━━━━━━━━━━━━━\u001b[0m\u001b[37m\u001b[0m \u001b[1m4s\u001b[0m 9ms/step - accuracy: 0.8540 - loss: 0.3540 - val_accuracy: 0.8486 - val_loss: 0.3509\n",
      "Epoch 31/74\n",
      "\u001b[1m390/390\u001b[0m \u001b[32m━━━━━━━━━━━━━━━━━━━━\u001b[0m\u001b[37m\u001b[0m \u001b[1m3s\u001b[0m 6ms/step - accuracy: 0.8508 - loss: 0.3541 - val_accuracy: 0.8507 - val_loss: 0.3490\n",
      "Epoch 32/74\n",
      "\u001b[1m390/390\u001b[0m \u001b[32m━━━━━━━━━━━━━━━━━━━━\u001b[0m\u001b[37m\u001b[0m \u001b[1m2s\u001b[0m 5ms/step - accuracy: 0.8574 - loss: 0.3467 - val_accuracy: 0.8494 - val_loss: 0.3503\n",
      "Epoch 33/74\n",
      "\u001b[1m390/390\u001b[0m \u001b[32m━━━━━━━━━━━━━━━━━━━━\u001b[0m\u001b[37m\u001b[0m \u001b[1m2s\u001b[0m 5ms/step - accuracy: 0.8557 - loss: 0.3499 - val_accuracy: 0.8503 - val_loss: 0.3486\n",
      "Epoch 34/74\n",
      "\u001b[1m390/390\u001b[0m \u001b[32m━━━━━━━━━━━━━━━━━━━━\u001b[0m\u001b[37m\u001b[0m \u001b[1m2s\u001b[0m 5ms/step - accuracy: 0.8584 - loss: 0.3372 - val_accuracy: 0.8512 - val_loss: 0.3482\n",
      "Epoch 35/74\n",
      "\u001b[1m390/390\u001b[0m \u001b[32m━━━━━━━━━━━━━━━━━━━━\u001b[0m\u001b[37m\u001b[0m \u001b[1m2s\u001b[0m 5ms/step - accuracy: 0.8604 - loss: 0.3380 - val_accuracy: 0.8482 - val_loss: 0.3489\n",
      "Epoch 36/74\n",
      "\u001b[1m390/390\u001b[0m \u001b[32m━━━━━━━━━━━━━━━━━━━━\u001b[0m\u001b[37m\u001b[0m \u001b[1m2s\u001b[0m 6ms/step - accuracy: 0.8625 - loss: 0.3387 - val_accuracy: 0.8486 - val_loss: 0.3472\n",
      "Epoch 37/74\n",
      "\u001b[1m390/390\u001b[0m \u001b[32m━━━━━━━━━━━━━━━━━━━━\u001b[0m\u001b[37m\u001b[0m \u001b[1m2s\u001b[0m 5ms/step - accuracy: 0.8474 - loss: 0.3574 - val_accuracy: 0.8520 - val_loss: 0.3478\n",
      "Epoch 38/74\n",
      "\u001b[1m390/390\u001b[0m \u001b[32m━━━━━━━━━━━━━━━━━━━━\u001b[0m\u001b[37m\u001b[0m \u001b[1m2s\u001b[0m 4ms/step - accuracy: 0.8579 - loss: 0.3448 - val_accuracy: 0.8507 - val_loss: 0.3468\n",
      "Epoch 39/74\n",
      "\u001b[1m390/390\u001b[0m \u001b[32m━━━━━━━━━━━━━━━━━━━━\u001b[0m\u001b[37m\u001b[0m \u001b[1m2s\u001b[0m 4ms/step - accuracy: 0.8493 - loss: 0.3602 - val_accuracy: 0.8486 - val_loss: 0.3478\n",
      "Epoch 40/74\n",
      "\u001b[1m390/390\u001b[0m \u001b[32m━━━━━━━━━━━━━━━━━━━━\u001b[0m\u001b[37m\u001b[0m \u001b[1m2s\u001b[0m 4ms/step - accuracy: 0.8594 - loss: 0.3494 - val_accuracy: 0.8486 - val_loss: 0.3484\n",
      "Epoch 41/74\n",
      "\u001b[1m390/390\u001b[0m \u001b[32m━━━━━━━━━━━━━━━━━━━━\u001b[0m\u001b[37m\u001b[0m \u001b[1m2s\u001b[0m 4ms/step - accuracy: 0.8539 - loss: 0.3502 - val_accuracy: 0.8490 - val_loss: 0.3490\n",
      "Epoch 42/74\n",
      "\u001b[1m390/390\u001b[0m \u001b[32m━━━━━━━━━━━━━━━━━━━━\u001b[0m\u001b[37m\u001b[0m \u001b[1m2s\u001b[0m 4ms/step - accuracy: 0.8603 - loss: 0.3382 - val_accuracy: 0.8503 - val_loss: 0.3460\n",
      "Epoch 43/74\n",
      "\u001b[1m390/390\u001b[0m \u001b[32m━━━━━━━━━━━━━━━━━━━━\u001b[0m\u001b[37m\u001b[0m \u001b[1m2s\u001b[0m 4ms/step - accuracy: 0.8563 - loss: 0.3460 - val_accuracy: 0.8512 - val_loss: 0.3471\n",
      "Epoch 44/74\n",
      "\u001b[1m390/390\u001b[0m \u001b[32m━━━━━━━━━━━━━━━━━━━━\u001b[0m\u001b[37m\u001b[0m \u001b[1m2s\u001b[0m 4ms/step - accuracy: 0.8582 - loss: 0.3417 - val_accuracy: 0.8503 - val_loss: 0.3478\n",
      "Epoch 45/74\n",
      "\u001b[1m390/390\u001b[0m \u001b[32m━━━━━━━━━━━━━━━━━━━━\u001b[0m\u001b[37m\u001b[0m \u001b[1m2s\u001b[0m 5ms/step - accuracy: 0.8557 - loss: 0.3368 - val_accuracy: 0.8529 - val_loss: 0.3477\n",
      "Epoch 46/74\n",
      "\u001b[1m390/390\u001b[0m \u001b[32m━━━━━━━━━━━━━━━━━━━━\u001b[0m\u001b[37m\u001b[0m \u001b[1m2s\u001b[0m 4ms/step - accuracy: 0.8527 - loss: 0.3420 - val_accuracy: 0.8486 - val_loss: 0.3441\n",
      "Epoch 47/74\n",
      "\u001b[1m390/390\u001b[0m \u001b[32m━━━━━━━━━━━━━━━━━━━━\u001b[0m\u001b[37m\u001b[0m \u001b[1m2s\u001b[0m 4ms/step - accuracy: 0.8578 - loss: 0.3354 - val_accuracy: 0.8524 - val_loss: 0.3465\n",
      "Epoch 48/74\n",
      "\u001b[1m390/390\u001b[0m \u001b[32m━━━━━━━━━━━━━━━━━━━━\u001b[0m\u001b[37m\u001b[0m \u001b[1m2s\u001b[0m 4ms/step - accuracy: 0.8620 - loss: 0.3293 - val_accuracy: 0.8512 - val_loss: 0.3518\n",
      "Epoch 49/74\n",
      "\u001b[1m390/390\u001b[0m \u001b[32m━━━━━━━━━━━━━━━━━━━━\u001b[0m\u001b[37m\u001b[0m \u001b[1m2s\u001b[0m 4ms/step - accuracy: 0.8605 - loss: 0.3369 - val_accuracy: 0.8482 - val_loss: 0.3486\n",
      "Epoch 50/74\n",
      "\u001b[1m390/390\u001b[0m \u001b[32m━━━━━━━━━━━━━━━━━━━━\u001b[0m\u001b[37m\u001b[0m \u001b[1m2s\u001b[0m 4ms/step - accuracy: 0.8650 - loss: 0.3317 - val_accuracy: 0.8494 - val_loss: 0.3436\n",
      "Epoch 51/74\n",
      "\u001b[1m390/390\u001b[0m \u001b[32m━━━━━━━━━━━━━━━━━━━━\u001b[0m\u001b[37m\u001b[0m \u001b[1m2s\u001b[0m 4ms/step - accuracy: 0.8530 - loss: 0.3451 - val_accuracy: 0.8499 - val_loss: 0.3471\n",
      "Epoch 52/74\n",
      "\u001b[1m390/390\u001b[0m \u001b[32m━━━━━━━━━━━━━━━━━━━━\u001b[0m\u001b[37m\u001b[0m \u001b[1m2s\u001b[0m 4ms/step - accuracy: 0.8640 - loss: 0.3312 - val_accuracy: 0.8482 - val_loss: 0.3461\n",
      "Epoch 53/74\n",
      "\u001b[1m390/390\u001b[0m \u001b[32m━━━━━━━━━━━━━━━━━━━━\u001b[0m\u001b[37m\u001b[0m \u001b[1m2s\u001b[0m 4ms/step - accuracy: 0.8603 - loss: 0.3352 - val_accuracy: 0.8529 - val_loss: 0.3441\n",
      "Epoch 54/74\n",
      "\u001b[1m390/390\u001b[0m \u001b[32m━━━━━━━━━━━━━━━━━━━━\u001b[0m\u001b[37m\u001b[0m \u001b[1m2s\u001b[0m 4ms/step - accuracy: 0.8615 - loss: 0.3334 - val_accuracy: 0.8512 - val_loss: 0.3439\n",
      "Epoch 55/74\n",
      "\u001b[1m390/390\u001b[0m \u001b[32m━━━━━━━━━━━━━━━━━━━━\u001b[0m\u001b[37m\u001b[0m \u001b[1m2s\u001b[0m 4ms/step - accuracy: 0.8569 - loss: 0.3414 - val_accuracy: 0.8507 - val_loss: 0.3436\n",
      "Epoch 56/74\n",
      "\u001b[1m390/390\u001b[0m \u001b[32m━━━━━━━━━━━━━━━━━━━━\u001b[0m\u001b[37m\u001b[0m \u001b[1m2s\u001b[0m 4ms/step - accuracy: 0.8531 - loss: 0.3407 - val_accuracy: 0.8537 - val_loss: 0.3416\n",
      "Epoch 57/74\n",
      "\u001b[1m390/390\u001b[0m \u001b[32m━━━━━━━━━━━━━━━━━━━━\u001b[0m\u001b[37m\u001b[0m \u001b[1m2s\u001b[0m 4ms/step - accuracy: 0.8624 - loss: 0.3316 - val_accuracy: 0.8554 - val_loss: 0.3407\n",
      "Epoch 58/74\n",
      "\u001b[1m390/390\u001b[0m \u001b[32m━━━━━━━━━━━━━━━━━━━━\u001b[0m\u001b[37m\u001b[0m \u001b[1m2s\u001b[0m 4ms/step - accuracy: 0.8571 - loss: 0.3391 - val_accuracy: 0.8533 - val_loss: 0.3411\n",
      "Epoch 59/74\n",
      "\u001b[1m390/390\u001b[0m \u001b[32m━━━━━━━━━━━━━━━━━━━━\u001b[0m\u001b[37m\u001b[0m \u001b[1m2s\u001b[0m 4ms/step - accuracy: 0.8569 - loss: 0.3400 - val_accuracy: 0.8567 - val_loss: 0.3391\n",
      "Epoch 60/74\n",
      "\u001b[1m390/390\u001b[0m \u001b[32m━━━━━━━━━━━━━━━━━━━━\u001b[0m\u001b[37m\u001b[0m \u001b[1m2s\u001b[0m 4ms/step - accuracy: 0.8613 - loss: 0.3299 - val_accuracy: 0.8571 - val_loss: 0.3390\n",
      "Epoch 61/74\n",
      "\u001b[1m390/390\u001b[0m \u001b[32m━━━━━━━━━━━━━━━━━━━━\u001b[0m\u001b[37m\u001b[0m \u001b[1m2s\u001b[0m 4ms/step - accuracy: 0.8611 - loss: 0.3321 - val_accuracy: 0.8529 - val_loss: 0.3408\n",
      "Epoch 62/74\n",
      "\u001b[1m390/390\u001b[0m \u001b[32m━━━━━━━━━━━━━━━━━━━━\u001b[0m\u001b[37m\u001b[0m \u001b[1m2s\u001b[0m 4ms/step - accuracy: 0.8534 - loss: 0.3441 - val_accuracy: 0.8537 - val_loss: 0.3407\n",
      "Epoch 63/74\n",
      "\u001b[1m390/390\u001b[0m \u001b[32m━━━━━━━━━━━━━━━━━━━━\u001b[0m\u001b[37m\u001b[0m \u001b[1m2s\u001b[0m 4ms/step - accuracy: 0.8679 - loss: 0.3202 - val_accuracy: 0.8537 - val_loss: 0.3380\n",
      "Epoch 64/74\n",
      "\u001b[1m390/390\u001b[0m \u001b[32m━━━━━━━━━━━━━━━━━━━━\u001b[0m\u001b[37m\u001b[0m \u001b[1m2s\u001b[0m 4ms/step - accuracy: 0.8553 - loss: 0.3366 - val_accuracy: 0.8537 - val_loss: 0.3372\n",
      "Epoch 65/74\n",
      "\u001b[1m390/390\u001b[0m \u001b[32m━━━━━━━━━━━━━━━━━━━━\u001b[0m\u001b[37m\u001b[0m \u001b[1m2s\u001b[0m 4ms/step - accuracy: 0.8641 - loss: 0.3252 - val_accuracy: 0.8554 - val_loss: 0.3375\n",
      "Epoch 66/74\n",
      "\u001b[1m390/390\u001b[0m \u001b[32m━━━━━━━━━━━━━━━━━━━━\u001b[0m\u001b[37m\u001b[0m \u001b[1m2s\u001b[0m 4ms/step - accuracy: 0.8607 - loss: 0.3361 - val_accuracy: 0.8524 - val_loss: 0.3365\n",
      "Epoch 67/74\n",
      "\u001b[1m390/390\u001b[0m \u001b[32m━━━━━━━━━━━━━━━━━━━━\u001b[0m\u001b[37m\u001b[0m \u001b[1m2s\u001b[0m 4ms/step - accuracy: 0.8691 - loss: 0.3267 - val_accuracy: 0.8567 - val_loss: 0.3373\n",
      "Epoch 68/74\n",
      "\u001b[1m390/390\u001b[0m \u001b[32m━━━━━━━━━━━━━━━━━━━━\u001b[0m\u001b[37m\u001b[0m \u001b[1m2s\u001b[0m 4ms/step - accuracy: 0.8610 - loss: 0.3329 - val_accuracy: 0.8550 - val_loss: 0.3348\n",
      "Epoch 69/74\n",
      "\u001b[1m390/390\u001b[0m \u001b[32m━━━━━━━━━━━━━━━━━━━━\u001b[0m\u001b[37m\u001b[0m \u001b[1m2s\u001b[0m 4ms/step - accuracy: 0.8573 - loss: 0.3307 - val_accuracy: 0.8563 - val_loss: 0.3355\n",
      "Epoch 70/74\n",
      "\u001b[1m390/390\u001b[0m \u001b[32m━━━━━━━━━━━━━━━━━━━━\u001b[0m\u001b[37m\u001b[0m \u001b[1m2s\u001b[0m 4ms/step - accuracy: 0.8649 - loss: 0.3233 - val_accuracy: 0.8541 - val_loss: 0.3351\n",
      "Epoch 71/74\n",
      "\u001b[1m390/390\u001b[0m \u001b[32m━━━━━━━━━━━━━━━━━━━━\u001b[0m\u001b[37m\u001b[0m \u001b[1m2s\u001b[0m 4ms/step - accuracy: 0.8607 - loss: 0.3329 - val_accuracy: 0.8554 - val_loss: 0.3349\n",
      "Epoch 72/74\n",
      "\u001b[1m390/390\u001b[0m \u001b[32m━━━━━━━━━━━━━━━━━━━━\u001b[0m\u001b[37m\u001b[0m \u001b[1m2s\u001b[0m 4ms/step - accuracy: 0.8605 - loss: 0.3295 - val_accuracy: 0.8520 - val_loss: 0.3353\n",
      "Epoch 73/74\n",
      "\u001b[1m390/390\u001b[0m \u001b[32m━━━━━━━━━━━━━━━━━━━━\u001b[0m\u001b[37m\u001b[0m \u001b[1m2s\u001b[0m 4ms/step - accuracy: 0.8624 - loss: 0.3216 - val_accuracy: 0.8546 - val_loss: 0.3345\n",
      "Epoch 74/74\n",
      "\u001b[1m390/390\u001b[0m \u001b[32m━━━━━━━━━━━━━━━━━━━━\u001b[0m\u001b[37m\u001b[0m \u001b[1m2s\u001b[0m 4ms/step - accuracy: 0.8604 - loss: 0.3346 - val_accuracy: 0.8533 - val_loss: 0.3351\n",
      "\u001b[1m157/157\u001b[0m \u001b[32m━━━━━━━━━━━━━━━━━━━━\u001b[0m\u001b[37m\u001b[0m \u001b[1m0s\u001b[0m 2ms/step - accuracy: 0.8614 - loss: 0.3274\n",
      "Test Loss: 0.3376, Test Accuracy: 0.8565\n"
     ]
    }
   ],
   "source": [
    "model.compile(loss='binary_crossentropy', optimizer='adam', metrics=['accuracy'])\n",
    "model.fit(X_train, y_train, epochs=74, batch_size=24, validation_split=0.2)\n",
    "loss, accuracy = model.evaluate(X_test, y_test)\n",
    "print(f'Test Loss: {loss:.4f}, Test Accuracy: {accuracy:.4f}')"
   ]
  },
  {
   "cell_type": "code",
   "execution_count": 31,
   "metadata": {},
   "outputs": [
    {
     "name": "stdout",
     "output_type": "stream",
     "text": [
      "\u001b[1m157/157\u001b[0m \u001b[32m━━━━━━━━━━━━━━━━━━━━\u001b[0m\u001b[37m\u001b[0m \u001b[1m1s\u001b[0m 4ms/step\n",
      "Classification Report:\n",
      "              precision    recall  f1-score   support\n",
      "\n",
      "           0       0.83      0.89      0.86      2488\n",
      "           1       0.89      0.82      0.85      2522\n",
      "\n",
      "    accuracy                           0.86      5010\n",
      "   macro avg       0.86      0.86      0.86      5010\n",
      "weighted avg       0.86      0.86      0.86      5010\n",
      "\n",
      "Confusion Matrix:\n",
      "[[2220  268]\n",
      " [ 451 2071]]\n"
     ]
    }
   ],
   "source": [
    "from sklearn.metrics import classification_report, confusion_matrix\n",
    "predictions = model.predict(X_test)\n",
    "\n",
    "# Menggunakan threshold 0.5 untuk binarize hasil prediksi\n",
    "predictions_binary = (predictions > 0.5).astype(int)\n",
    "\n",
    "# Menghitung classification report\n",
    "print(\"Classification Report:\")\n",
    "print(classification_report(y_test, predictions_binary))\n",
    "\n",
    "# Menghitung confusion matrix\n",
    "print(\"Confusion Matrix:\")\n",
    "print(confusion_matrix(y_test, predictions_binary))"
   ]
  },
  {
   "cell_type": "code",
   "execution_count": 32,
   "metadata": {},
   "outputs": [],
   "source": [
    "X_rl = dft[['person_age', 'person_income', 'person_home_ownership',\n",
    "                'loan_intent', 'loan_grade', 'loan_amnt',\n",
    "                'loan_int_rate', 'loan_percent_income']]"
   ]
  },
  {
   "cell_type": "code",
   "execution_count": 33,
   "metadata": {},
   "outputs": [],
   "source": [
    "X_scaled_rl = scaler.fit_transform(X_rl)\n",
    "X_reshapedrl = X_scaled_rl.reshape((X_scaled_rl.shape[0], 1, X_scaled_rl.shape[1]))"
   ]
  },
  {
   "cell_type": "code",
   "execution_count": 34,
   "metadata": {},
   "outputs": [
    {
     "name": "stdout",
     "output_type": "stream",
     "text": [
      "\u001b[1m1222/1222\u001b[0m \u001b[32m━━━━━━━━━━━━━━━━━━━━\u001b[0m\u001b[37m\u001b[0m \u001b[1m2s\u001b[0m 1ms/step\n"
     ]
    }
   ],
   "source": [
    "# Melakukan prediksi\n",
    "predictions = model.predict(X_reshapedrl)\n"
   ]
  },
  {
   "cell_type": "code",
   "execution_count": null,
   "metadata": {},
   "outputs": [],
   "source": []
  },
  {
   "cell_type": "code",
   "execution_count": null,
   "metadata": {},
   "outputs": [],
   "source": [
    "# Pastikan dataset untuk prediksi memiliki 39098 baris\n",
    "\n"
   ]
  },
  {
   "cell_type": "code",
   "execution_count": 63,
   "metadata": {},
   "outputs": [
    {
     "name": "stdout",
     "output_type": "stream",
     "text": [
      "Classification Report:\n"
     ]
    },
    {
     "ename": "NameError",
     "evalue": "name 'y_rl' is not defined",
     "output_type": "error",
     "traceback": [
      "\u001b[1;31m---------------------------------------------------------------------------\u001b[0m",
      "\u001b[1;31mNameError\u001b[0m                                 Traceback (most recent call last)",
      "Cell \u001b[1;32mIn[63], line 5\u001b[0m\n\u001b[0;32m      3\u001b[0m \u001b[38;5;66;03m# Menampilkan classification report\u001b[39;00m\n\u001b[0;32m      4\u001b[0m \u001b[38;5;28mprint\u001b[39m(\u001b[38;5;124m\"\u001b[39m\u001b[38;5;124mClassification Report:\u001b[39m\u001b[38;5;124m\"\u001b[39m)\n\u001b[1;32m----> 5\u001b[0m \u001b[38;5;28mprint\u001b[39m(classification_report(\u001b[43my_rl\u001b[49m, predictions))\n\u001b[0;32m      7\u001b[0m \u001b[38;5;66;03m# Menampilkan confusion matrix\u001b[39;00m\n\u001b[0;32m      8\u001b[0m \u001b[38;5;28mprint\u001b[39m(\u001b[38;5;124m\"\u001b[39m\u001b[38;5;124mConfusion Matrix:\u001b[39m\u001b[38;5;124m\"\u001b[39m)\n",
      "\u001b[1;31mNameError\u001b[0m: name 'y_rl' is not defined"
     ]
    }
   ],
   "source": [
    "from sklearn.metrics import classification_report, confusion_matrix\n",
    "\n",
    "# Menampilkan classification report\n",
    "print(\"Classification Report:\")\n",
    "print(classification_report(y_rl, predictions))\n",
    "\n",
    "# Menampilkan confusion matrix\n",
    "print(\"Confusion Matrix:\")\n",
    "print(confusion_matrix(y_rl, predictions))\n"
   ]
  },
  {
   "cell_type": "code",
   "execution_count": 45,
   "metadata": {},
   "outputs": [
    {
     "ename": "NameError",
     "evalue": "name 'y_rl' is not defined",
     "output_type": "error",
     "traceback": [
      "\u001b[1;31m---------------------------------------------------------------------------\u001b[0m",
      "\u001b[1;31mNameError\u001b[0m                                 Traceback (most recent call last)",
      "Cell \u001b[1;32mIn[45], line 5\u001b[0m\n\u001b[0;32m      2\u001b[0m \u001b[38;5;28;01mimport\u001b[39;00m \u001b[38;5;21;01mmatplotlib\u001b[39;00m\u001b[38;5;21;01m.\u001b[39;00m\u001b[38;5;21;01mpyplot\u001b[39;00m \u001b[38;5;28;01mas\u001b[39;00m \u001b[38;5;21;01mplt\u001b[39;00m\n\u001b[0;32m      4\u001b[0m \u001b[38;5;66;03m# Menghitung confusion matrix\u001b[39;00m\n\u001b[1;32m----> 5\u001b[0m cm \u001b[38;5;241m=\u001b[39m confusion_matrix(\u001b[43my_rl\u001b[49m, predictions)\n\u001b[0;32m      7\u001b[0m \u001b[38;5;66;03m# Menggambar confusion matrix\u001b[39;00m\n\u001b[0;32m      8\u001b[0m plt\u001b[38;5;241m.\u001b[39mfigure(figsize\u001b[38;5;241m=\u001b[39m(\u001b[38;5;241m8\u001b[39m, \u001b[38;5;241m6\u001b[39m))\n",
      "\u001b[1;31mNameError\u001b[0m: name 'y_rl' is not defined"
     ]
    }
   ],
   "source": [
    "import seaborn as sns\n",
    "import matplotlib.pyplot as plt\n",
    "\n",
    "# Menghitung confusion matrix\n",
    "cm = confusion_matrix(y_rl, predictions)\n",
    "\n",
    "# Menggambar confusion matrix\n",
    "plt.figure(figsize=(8, 6))\n",
    "sns.heatmap(cm, annot=True, fmt=\"d\", cmap=\"Blues\", xticklabels=[\"Benign\", \"DDoS\"], yticklabels=[\"Benign\", \"DDoS\"])\n",
    "plt.ylabel('Actual')\n",
    "plt.xlabel('Predicted')\n",
    "plt.title('Confusion Matrix')\n",
    "plt.show()\n"
   ]
  },
  {
   "cell_type": "code",
   "execution_count": 24,
   "metadata": {},
   "outputs": [
    {
     "name": "stdout",
     "output_type": "stream",
     "text": [
      "[[1]\n",
      " [0]\n",
      " [1]\n",
      " ...\n",
      " [0]\n",
      " [1]\n",
      " [1]]\n"
     ]
    }
   ],
   "source": [
    "binary_predictions = (predictions > 0.5).astype(int)\n",
    "\n",
    "print(binary_predictions)"
   ]
  },
  {
   "cell_type": "code",
   "execution_count": 35,
   "metadata": {},
   "outputs": [],
   "source": [
    "predictions_1d = predictions.flatten() "
   ]
  },
  {
   "cell_type": "code",
   "execution_count": 36,
   "metadata": {},
   "outputs": [
    {
     "name": "stdout",
     "output_type": "stream",
     "text": [
      "[0.99528104 0.14040138 0.9933115  ... 0.11252937 0.947792   0.99535376]\n"
     ]
    }
   ],
   "source": [
    "print(predictions_1d)"
   ]
  },
  {
   "cell_type": "code",
   "execution_count": 56,
   "metadata": {},
   "outputs": [
    {
     "data": {
      "text/plain": [
       "(39098, 12)"
      ]
     },
     "execution_count": 56,
     "metadata": {},
     "output_type": "execute_result"
    }
   ],
   "source": [
    "dft.shape"
   ]
  },
  {
   "cell_type": "code",
   "execution_count": 120,
   "metadata": {},
   "outputs": [
    {
     "name": "stdout",
     "output_type": "stream",
     "text": [
      "39098\n"
     ]
    }
   ],
   "source": [
    "p = len(dft['id'])\n",
    "print(p)"
   ]
  },
  {
   "cell_type": "code",
   "execution_count": 121,
   "metadata": {},
   "outputs": [
    {
     "name": "stdout",
     "output_type": "stream",
     "text": [
      "39098\n"
     ]
    }
   ],
   "source": [
    "l = len(predictions_1d)\n",
    "print(l)"
   ]
  },
  {
   "cell_type": "code",
   "execution_count": 91,
   "metadata": {},
   "outputs": [],
   "source": [
    "subset_id = dft['id'][:len(predictions_1d)]  # Ambil subset id yang sesuai dengan panjang prediksi\n",
    "\n",
    "# Buat DataFrame hasil\n",
    "results = pd.DataFrame({\n",
    "    'id': subset_id,\n",
    "    'loan_status': predictions_1d\n",
    "})\n",
    "\n",
    "# Simpan hasil ke CSV\n",
    "results.to_csv('predictions.csv', index=False)"
   ]
  },
  {
   "cell_type": "code",
   "execution_count": 83,
   "metadata": {},
   "outputs": [
    {
     "ename": "AttributeError",
     "evalue": "'numpy.ndarray' object has no attribute 'value_counts'",
     "output_type": "error",
     "traceback": [
      "\u001b[1;31m---------------------------------------------------------------------------\u001b[0m",
      "\u001b[1;31mAttributeError\u001b[0m                            Traceback (most recent call last)",
      "Cell \u001b[1;32mIn[83], line 3\u001b[0m\n\u001b[0;32m      1\u001b[0m \u001b[38;5;28;01mimport\u001b[39;00m \u001b[38;5;21;01mseaborn\u001b[39;00m \u001b[38;5;28;01mas\u001b[39;00m \u001b[38;5;21;01msns\u001b[39;00m\n\u001b[0;32m      2\u001b[0m \u001b[38;5;28;01mimport\u001b[39;00m \u001b[38;5;21;01mmatplotlib\u001b[39;00m\u001b[38;5;21;01m.\u001b[39;00m\u001b[38;5;21;01mpyplot\u001b[39;00m \u001b[38;5;28;01mas\u001b[39;00m \u001b[38;5;21;01mplt\u001b[39;00m\n\u001b[1;32m----> 3\u001b[0m count_values \u001b[38;5;241m=\u001b[39m \u001b[43mbinary_predictions\u001b[49m\u001b[38;5;241;43m.\u001b[39;49m\u001b[43mvalue_counts\u001b[49m()\n\u001b[0;32m      4\u001b[0m plt\u001b[38;5;241m.\u001b[39mfigure(figsize\u001b[38;5;241m=\u001b[39m(\u001b[38;5;241m8\u001b[39m, \u001b[38;5;241m5\u001b[39m))\n\u001b[0;32m      5\u001b[0m sns\u001b[38;5;241m.\u001b[39mbarplot(x\u001b[38;5;241m=\u001b[39mcount_values\u001b[38;5;241m.\u001b[39mindex, y\u001b[38;5;241m=\u001b[39mcount_values\u001b[38;5;241m.\u001b[39mvalues, palette\u001b[38;5;241m=\u001b[39m\u001b[38;5;124m'\u001b[39m\u001b[38;5;124mviridis\u001b[39m\u001b[38;5;124m'\u001b[39m)\n",
      "\u001b[1;31mAttributeError\u001b[0m: 'numpy.ndarray' object has no attribute 'value_counts'"
     ]
    }
   ],
   "source": [
    "import seaborn as sns\n",
    "import matplotlib.pyplot as plt\n",
    "count_values = df3['loan_status'].value_counts()\n",
    "plt.figure(figsize=(8, 5))\n",
    "sns.barplot(x=count_values.index, y=count_values.values, palette='viridis')\n",
    "plt.title('loan_status')\n",
    "plt.xlabel('Value')\n",
    "plt.ylabel('jumlah')\n",
    "for i, v in enumerate(count_values.values):\n",
    "    plt.text(i, v + 0.1, str(v), ha='center')\n",
    "\n",
    "plt.show()"
   ]
  },
  {
   "cell_type": "code",
   "execution_count": 37,
   "metadata": {},
   "outputs": [],
   "source": [
    "results = pd.DataFrame({\n",
    "    'id': dft['id'],\n",
    "    'loan_status': predictions_1d\n",
    "})\n",
    "\n",
    "# Menyimpan hasil ke CSV\n",
    "results.to_csv('Zoltrak8_Finish.csv', index=False)"
   ]
  },
  {
   "cell_type": "code",
   "execution_count": 25,
   "metadata": {},
   "outputs": [
    {
     "ename": "NameError",
     "evalue": "name 'timesteps' is not defined",
     "output_type": "error",
     "traceback": [
      "\u001b[1;31m---------------------------------------------------------------------------\u001b[0m",
      "\u001b[1;31mNameError\u001b[0m                                 Traceback (most recent call last)",
      "Cell \u001b[1;32mIn[25], line 7\u001b[0m\n\u001b[0;32m      4\u001b[0m model2 \u001b[38;5;241m=\u001b[39m Sequential()\n\u001b[0;32m      6\u001b[0m \u001b[38;5;66;03m# Layer RNN pertama, mengembalikan seluruh urutan (3D)\u001b[39;00m\n\u001b[1;32m----> 7\u001b[0m model2\u001b[38;5;241m.\u001b[39madd(SimpleRNN(\u001b[38;5;241m64\u001b[39m, input_shape\u001b[38;5;241m=\u001b[39m(\u001b[43mtimesteps\u001b[49m, features), return_sequences\u001b[38;5;241m=\u001b[39m\u001b[38;5;28;01mTrue\u001b[39;00m, activation\u001b[38;5;241m=\u001b[39m\u001b[38;5;124m'\u001b[39m\u001b[38;5;124mrelu\u001b[39m\u001b[38;5;124m'\u001b[39m))\n\u001b[0;32m      8\u001b[0m model2\u001b[38;5;241m.\u001b[39madd(Dropout(\u001b[38;5;241m0.2\u001b[39m))\n\u001b[0;32m     10\u001b[0m \u001b[38;5;66;03m# Layer RNN kedua, juga harus menerima input 3D\u001b[39;00m\n",
      "\u001b[1;31mNameError\u001b[0m: name 'timesteps' is not defined"
     ]
    }
   ],
   "source": [
    "from tensorflow.keras.models import Sequential\n",
    "from tensorflow.keras.layers import SimpleRNN, Dense, Dropout\n",
    "\n",
    "model2 = Sequential()\n",
    "\n",
    "# Layer RNN pertama, mengembalikan seluruh urutan (3D)\n",
    "model2.add(SimpleRNN(64, input_shape=(timesteps, features), return_sequences=True, activation='relu'))\n",
    "model2.add(Dropout(0.2))\n",
    "\n",
    "# Layer RNN kedua, juga harus menerima input 3D\n",
    "model2.add(SimpleRNN(32, return_sequences=False, activation='relu'))  # Output 2D setelah ini\n",
    "\n",
    "# Layer Dense untuk klasifikasi\n",
    "model2.add(Dense(16, activation='relu'))\n",
    "model2.add(Dense(1, activation='sigmoid'))\n",
    "\n",
    "# Kompilasi dan pelatihan\n",
    "model2.compile(optimizer='adam', loss='binary_crossentropy', metrics=['accuracy'])\n",
    "model2.fit(X_train, y_train, epochs=10, batch_size=32)\n",
    "\n",
    "# Evaluasi model\n",
    "loss, accuracy = model2.evaluate(X_test, y_test)\n",
    "print(f'Loss: {loss}, Accuracy: {accuracy}')\n"
   ]
  }
 ],
 "metadata": {
  "kernelspec": {
   "display_name": "bakso2",
   "language": "python",
   "name": "python3"
  },
  "language_info": {
   "codemirror_mode": {
    "name": "ipython",
    "version": 3
   },
   "file_extension": ".py",
   "mimetype": "text/x-python",
   "name": "python",
   "nbconvert_exporter": "python",
   "pygments_lexer": "ipython3",
   "version": "3.12.2"
  }
 },
 "nbformat": 4,
 "nbformat_minor": 2
}
